{
 "cells": [
  {
   "cell_type": "code",
   "execution_count": 2,
   "id": "dd37774a",
   "metadata": {},
   "outputs": [],
   "source": [
    "import os\n",
    "from bs4 import BeautifulSoup\n",
    "from playwright.async_api import async_playwright, TimeoutError as PlaywrightTimeout\n",
    "import time"
   ]
  },
  {
   "cell_type": "code",
   "execution_count": 3,
   "id": "8e8a0323",
   "metadata": {},
   "outputs": [],
   "source": [
    "SEASONS = list(range(2017,2023))"
   ]
  },
  {
   "cell_type": "code",
   "execution_count": 4,
   "id": "80d4e619",
   "metadata": {},
   "outputs": [
    {
     "data": {
      "text/plain": [
       "[2017, 2018, 2019, 2020, 2021, 2022]"
      ]
     },
     "execution_count": 4,
     "metadata": {},
     "output_type": "execute_result"
    }
   ],
   "source": [
    "SEASONS"
   ]
  },
  {
   "cell_type": "code",
   "execution_count": 5,
   "id": "4d2e12ad",
   "metadata": {},
   "outputs": [],
   "source": [
    "DATA_DIR = \"data\"\n",
    "STANDINGS_DIR = os.path.join(DATA_DIR, \"standings\")\n",
    "SCORES_DIR = os.path.join(DATA_DIR, \"scores\")"
   ]
  },
  {
   "cell_type": "code",
   "execution_count": 6,
   "id": "e31191a9",
   "metadata": {},
   "outputs": [],
   "source": [
    "async def get_html(url, selector, sleep = 5, retries=3):\n",
    "    html = None\n",
    "    for i in range(1, retries + 1):\n",
    "        time.sleep(sleep * i)\n",
    "        \n",
    "        try:\n",
    "            async with async_playwright() as p:\n",
    "                browser = await p.chromium.launch()\n",
    "                page = await browser.new_page()\n",
    "                await page.goto(url)\n",
    "                print(await page.title())\n",
    "                html = await page.inner_html(selector)\n",
    "        except PlaywrightTimeout:\n",
    "            print(f\"Timeout Error on {url}\")\n",
    "            continue\n",
    "        else:\n",
    "            break\n",
    "    return html\n",
    "    "
   ]
  },
  {
   "cell_type": "code",
   "execution_count": 7,
   "id": "47689fe6",
   "metadata": {},
   "outputs": [],
   "source": [
    "season = 2022\n",
    "css_selector = \"#content .filter\" \n",
    "url = f\"https://www.basketball-reference.com/leagues/NBA_{season}_games.html\""
   ]
  },
  {
   "cell_type": "code",
   "execution_count": 8,
   "id": "80bfc9ea",
   "metadata": {},
   "outputs": [
    {
     "data": {
      "text/plain": [
       "'https://www.basketball-reference.com/leagues/NBA_2022_games.html'"
      ]
     },
     "execution_count": 8,
     "metadata": {},
     "output_type": "execute_result"
    }
   ],
   "source": [
    "url\n"
   ]
  },
  {
   "cell_type": "code",
   "execution_count": 9,
   "id": "97fae699",
   "metadata": {},
   "outputs": [
    {
     "name": "stdout",
     "output_type": "stream",
     "text": [
      "2021-22 NBA Schedule | Basketball-Reference.com\n"
     ]
    }
   ],
   "source": [
    "html = await get_html(url, css_selector)"
   ]
  },
  {
   "cell_type": "code",
   "execution_count": 10,
   "id": "ef326cce",
   "metadata": {},
   "outputs": [
    {
     "data": {
      "text/plain": [
       "'\\n\\n<div class=\" current\">\\n\\t<a href=\"/leagues/NBA_2022_games-october.html\">October</a>\\n</div><div class=\"\">\\n\\t<a href=\"/leagues/NBA_2022_games-november.html\">November</a>\\n</div><div class=\"\">\\n\\t<a href=\"/leagues/NBA_2022_games-december.html\">December</a>\\n</div><div class=\"\">\\n\\t<a href=\"/leagues/NBA_2022_games-january.html\">January</a>\\n</div><div class=\"\">\\n\\t<a href=\"/leagues/NBA_2022_games-february.html\">February</a>\\n</div><div class=\"\">\\n\\t<a href=\"/leagues/NBA_2022_games-march.html\">March</a>\\n</div><div class=\"\">\\n\\t<a href=\"/leagues/NBA_2022_games-april.html\">April</a>\\n</div><div class=\"\">\\n\\t<a href=\"/leagues/NBA_2022_games-may.html\">May</a>\\n</div><div class=\"\">\\n\\t<a href=\"/leagues/NBA_2022_games-june.html\">June</a>\\n</div>'"
      ]
     },
     "execution_count": 10,
     "metadata": {},
     "output_type": "execute_result"
    }
   ],
   "source": [
    "html"
   ]
  },
  {
   "cell_type": "code",
   "execution_count": 11,
   "id": "474f4b62",
   "metadata": {},
   "outputs": [
    {
     "data": {
      "text/plain": [
       "['/leagues/NBA_2022_games-october.html',\n",
       " '/leagues/NBA_2022_games-november.html',\n",
       " '/leagues/NBA_2022_games-december.html',\n",
       " '/leagues/NBA_2022_games-january.html',\n",
       " '/leagues/NBA_2022_games-february.html',\n",
       " '/leagues/NBA_2022_games-march.html',\n",
       " '/leagues/NBA_2022_games-april.html',\n",
       " '/leagues/NBA_2022_games-may.html',\n",
       " '/leagues/NBA_2022_games-june.html']"
      ]
     },
     "execution_count": 11,
     "metadata": {},
     "output_type": "execute_result"
    }
   ],
   "source": [
    "soup = BeautifulSoup(html)\n",
    "links = soup.find_all(\"a\")\n",
    "href = [l[\"href\"] for l in links]\n",
    "href"
   ]
  },
  {
   "cell_type": "code",
   "execution_count": 12,
   "id": "a19c13cf",
   "metadata": {},
   "outputs": [
    {
     "data": {
      "text/plain": [
       "['https://basketball-reference.com/leagues/NBA_2022_games-october.html',\n",
       " 'https://basketball-reference.com/leagues/NBA_2022_games-november.html',\n",
       " 'https://basketball-reference.com/leagues/NBA_2022_games-december.html',\n",
       " 'https://basketball-reference.com/leagues/NBA_2022_games-january.html',\n",
       " 'https://basketball-reference.com/leagues/NBA_2022_games-february.html',\n",
       " 'https://basketball-reference.com/leagues/NBA_2022_games-march.html',\n",
       " 'https://basketball-reference.com/leagues/NBA_2022_games-april.html',\n",
       " 'https://basketball-reference.com/leagues/NBA_2022_games-may.html',\n",
       " 'https://basketball-reference.com/leagues/NBA_2022_games-june.html']"
      ]
     },
     "execution_count": 12,
     "metadata": {},
     "output_type": "execute_result"
    }
   ],
   "source": [
    "standing_pages = [f\"https://basketball-reference.com{l}\"for l in href]\n",
    "standing_pages"
   ]
  },
  {
   "cell_type": "code",
   "execution_count": 13,
   "id": "53abf4dd",
   "metadata": {},
   "outputs": [],
   "source": [
    "async def scrape_seasons(season):\n",
    "    url = f\"https://basketball-reference.com/leagues/NBA_{season}_games.html\"\n",
    "    html = await get_html(url, \"#content .filter\")\n",
    "    \n",
    "    soup = BeautifulSoup(html)\n",
    "    links = soup.find_all(\"a\")\n",
    "    href = [l[\"href\"] for l in links]\n",
    "    standing_pages = [f\"https://basketball-reference.com{l}\"for l in href]\n",
    "    \n",
    "    for url in standing_pages:\n",
    "        save_path = os.path.join(STANDINGS_DIR, url.split(\"/\")[-1])\n",
    "        if os.path.exists(save_path):\n",
    "            continue\n",
    "        \n",
    "        html = await get_html(url, \"#all_schedule\")\n",
    "        with open(save_path, \"w+\") as f:\n",
    "            f.write(html)\n",
    "\n",
    "    "
   ]
  },
  {
   "cell_type": "code",
   "execution_count": 35,
   "id": "df30f2ce",
   "metadata": {},
   "outputs": [
    {
     "name": "stdout",
     "output_type": "stream",
     "text": [
      "2015-16 NBA Schedule | Basketball-Reference.com\n",
      "Timeout Error on https://basketball-reference.com/leagues/NBA_2016_games-october.html\n",
      "2015-16 NBA Schedule | Basketball-Reference.com\n",
      "2015-16 NBA Schedule | Basketball-Reference.com\n",
      "Timeout Error on https://basketball-reference.com/leagues/NBA_2017_games.html\n",
      "2016-17 NBA Schedule | Basketball-Reference.com\n",
      "Timeout Error on https://basketball-reference.com/leagues/NBA_2017_games-january.html\n",
      "2016-17 NBA Schedule | Basketball-Reference.com\n",
      "Timeout Error on https://basketball-reference.com/leagues/NBA_2018_games.html\n",
      "2017-18 NBA Schedule | Basketball-Reference.com\n",
      "2018-19 NBA Schedule | Basketball-Reference.com\n",
      "Timeout Error on https://basketball-reference.com/leagues/NBA_2020_games.html\n",
      "Timeout Error on https://basketball-reference.com/leagues/NBA_2020_games.html\n",
      "2019-20 NBA Schedule | Basketball-Reference.com\n",
      "2020-21 NBA Schedule | Basketball-Reference.com\n",
      "2020-21 NBA Schedule | Basketball-Reference.com\n",
      "2020-21 NBA Schedule | Basketball-Reference.com\n",
      "2020-21 NBA Schedule | Basketball-Reference.com\n",
      "2021-22 NBA Schedule | Basketball-Reference.com\n",
      "Timeout Error on https://basketball-reference.com/leagues/NBA_2022_games-october.html\n",
      "Timeout Error on https://basketball-reference.com/leagues/NBA_2022_games-october.html\n",
      "2021-22 NBA Schedule | Basketball-Reference.com\n",
      "Timeout Error on https://basketball-reference.com/leagues/NBA_2022_games-november.html\n",
      "2021-22 NBA Schedule | Basketball-Reference.com\n",
      "2021-22 NBA Schedule | Basketball-Reference.com\n",
      "2021-22 NBA Schedule | Basketball-Reference.com\n",
      "2021-22 NBA Schedule | Basketball-Reference.com\n",
      "2021-22 NBA Schedule | Basketball-Reference.com\n",
      "2021-22 NBA Schedule | Basketball-Reference.com\n",
      "2021-22 NBA Schedule | Basketball-Reference.com\n",
      "2021-22 NBA Schedule | Basketball-Reference.com\n"
     ]
    }
   ],
   "source": [
    "for season in SEASONS:\n",
    "    await scrape_seasons(season)"
   ]
  },
  {
   "cell_type": "code",
   "execution_count": 14,
   "id": "4a576777",
   "metadata": {},
   "outputs": [],
   "source": [
    "standing_files = os.listdir(STANDINGS_DIR)"
   ]
  },
  {
   "cell_type": "code",
   "execution_count": 15,
   "id": "a43114ec",
   "metadata": {},
   "outputs": [
    {
     "data": {
      "text/plain": [
       "['NBA_2017_games-october.html',\n",
       " 'NBA_2017_games-november.html',\n",
       " 'NBA_2017_games-december.html',\n",
       " 'NBA_2017_games-february.html',\n",
       " 'NBA_2017_games-march.html',\n",
       " 'NBA_2017_games-april.html',\n",
       " 'NBA_2017_games-may.html',\n",
       " 'NBA_2017_games-june.html',\n",
       " 'NBA_2018_games-october.html',\n",
       " 'NBA_2018_games-november.html',\n",
       " 'NBA_2018_games-december.html',\n",
       " 'NBA_2018_games-january.html',\n",
       " 'NBA_2018_games-february.html',\n",
       " 'NBA_2018_games-march.html',\n",
       " 'NBA_2018_games-april.html',\n",
       " 'NBA_2018_games-may.html',\n",
       " 'NBA_2018_games-june.html',\n",
       " 'NBA_2019_games-october.html',\n",
       " 'NBA_2019_games-november.html',\n",
       " 'NBA_2019_games-december.html',\n",
       " 'NBA_2019_games-january.html',\n",
       " 'NBA_2019_games-february.html',\n",
       " 'NBA_2019_games-march.html',\n",
       " 'NBA_2019_games-april.html',\n",
       " 'NBA_2019_games-may.html',\n",
       " 'NBA_2019_games-june.html',\n",
       " 'NBA_2020_games-october-2019.html',\n",
       " 'NBA_2020_games-november.html',\n",
       " 'NBA_2020_games-december.html',\n",
       " 'NBA_2020_games-january.html',\n",
       " 'NBA_2020_games-february.html',\n",
       " 'NBA_2020_games-march.html',\n",
       " 'NBA_2020_games-july.html',\n",
       " 'NBA_2020_games-august.html',\n",
       " 'NBA_2020_games-september.html',\n",
       " 'NBA_2020_games-october-2020.html',\n",
       " 'NBA_2021_games-december.html',\n",
       " 'NBA_2021_games-january.html',\n",
       " 'NBA_2021_games-february.html',\n",
       " 'NBA_2021_games-march.html',\n",
       " 'NBA_2021_games-april.html',\n",
       " 'NBA_2017_games-january.html',\n",
       " 'NBA_2021_games-may.html',\n",
       " 'NBA_2021_games-june.html',\n",
       " 'NBA_2021_games-july.html',\n",
       " 'NBA_2022_games-october.html',\n",
       " 'NBA_2022_games-november.html',\n",
       " 'NBA_2022_games-december.html',\n",
       " 'NBA_2022_games-january.html',\n",
       " 'NBA_2022_games-february.html',\n",
       " 'NBA_2022_games-march.html',\n",
       " 'NBA_2022_games-april.html',\n",
       " 'NBA_2022_games-may.html',\n",
       " 'NBA_2022_games-june.html',\n",
       " 'NBA_2016_games-april.html',\n",
       " 'NBA_2016_games-december.html',\n",
       " 'NBA_2016_games-february.html',\n",
       " 'NBA_2016_games-january.html',\n",
       " 'NBA_2016_games-june.html',\n",
       " 'NBA_2016_games-march.html',\n",
       " 'NBA_2016_games-may.html',\n",
       " 'NBA_2016_games-november.html',\n",
       " 'NBA_2016_games-october.html']"
      ]
     },
     "execution_count": 15,
     "metadata": {},
     "output_type": "execute_result"
    }
   ],
   "source": [
    "standing_files"
   ]
  },
  {
   "cell_type": "code",
   "execution_count": 16,
   "id": "4ebfc59c",
   "metadata": {},
   "outputs": [],
   "source": [
    "async def standing_games(standing_file):\n",
    "    with open (standing_file, \"r\") as f:\n",
    "        html = f.read()\n",
    "\n",
    "    soup = BeautifulSoup(html)\n",
    "    links = soup.find_all(\"a\")\n",
    "    hrefs = [l.get(\"href\") for l in links]\n",
    "    box_scores = [l for l in hrefs if l and \"boxscores\" in l and \".html\" in l]\n",
    "    box_scores = [f\"https://basketball-reference.com{l}\" for l in box_scores]\n",
    "\n",
    "    for url in box_scores:\n",
    "        save_path = os.path.join(SCORES_DIR, url.split(\"/\")[-1])\n",
    "        if os.path.exists(save_path):\n",
    "            continue\n",
    "        html = await get_html(url, \"#content\")\n",
    "        if not html:\n",
    "            continue\n",
    "        with open(save_path, \"w+\") as f:\n",
    "            f.write(html)"
   ]
  },
  {
   "cell_type": "code",
   "execution_count": null,
   "id": "3a3519fe",
   "metadata": {},
   "outputs": [
    {
     "name": "stdout",
     "output_type": "stream",
     "text": [
      "Kings vs Hawks, October 31, 2016 | Basketball-Reference.com\n",
      "Timeout Error on https://basketball-reference.com/boxscores/201610310BRK.html\n",
      "Bulls vs Nets, October 31, 2016 | Basketball-Reference.com\n",
      "Nuggets vs Raptors, October 31, 2016 | Basketball-Reference.com\n",
      "Lakers vs Hawks, November 2, 2016 | Basketball-Reference.com\n",
      "Pistons vs Nets, November 2, 2016 | Basketball-Reference.com\n",
      "Pelicans vs Grizzlies, November 2, 2016 | Basketball-Reference.com\n",
      "Mavericks vs Jazz, November 2, 2016 | Basketball-Reference.com\n",
      "Timeout Error on https://basketball-reference.com/boxscores/201611030ORL.html\n",
      "Timeout Error on https://basketball-reference.com/boxscores/201611030ORL.html\n",
      "Kings vs Magic, November 3, 2016 | Basketball-Reference.com\n",
      "Timeout Error on https://basketball-reference.com/boxscores/201611030MIL.html\n",
      "Pacers vs Bucks, November 3, 2016 | Basketball-Reference.com\n",
      "Knicks vs Bulls, November 4, 2016 | Basketball-Reference.com\n",
      "Kings vs Bucks, November 5, 2016 | Basketball-Reference.com\n",
      "Jazz vs Knicks, November 6, 2016 | Basketball-Reference.com\n",
      "Trail Blazers vs Grizzlies, November 6, 2016 | Basketball-Reference.com\n",
      "Timeout Error on https://basketball-reference.com/boxscores/201611120IND.html\n",
      "Celtics vs Pacers, November 12, 2016 | Basketball-Reference.com\n",
      "Lakers vs Pelicans, November 12, 2016 | Basketball-Reference.com\n",
      "76ers vs Hawks, November 12, 2016 | Basketball-Reference.com\n",
      "Knicks vs Raptors, November 12, 2016 | Basketball-Reference.com\n",
      "Wizards vs Bulls, November 12, 2016 | Basketball-Reference.com\n",
      "Spurs vs Rockets, November 12, 2016 | Basketball-Reference.com\n",
      "Jazz vs Heat, November 12, 2016 | Basketball-Reference.com\n",
      "Timeout Error on https://basketball-reference.com/boxscores/201611120MIN.html\n",
      "Clippers vs Timberwolves, November 12, 2016 | Basketball-Reference.com\n",
      "Grizzlies vs Bucks, November 12, 2016 | Basketball-Reference.com\n",
      "Timeout Error on https://basketball-reference.com/boxscores/201611120DEN.html\n",
      "Pistons vs Nuggets, November 12, 2016 | Basketball-Reference.com\n",
      "Timeout Error on https://basketball-reference.com/boxscores/201611120PHO.html\n",
      "Nets vs Suns, November 12, 2016 | Basketball-Reference.com\n",
      "Timeout Error on https://basketball-reference.com/boxscores/201611130CLE.html\n",
      "Hornets vs Cavaliers, November 13, 2016 | Basketball-Reference.com\n",
      "Lakers vs Timberwolves, November 13, 2016 | Basketball-Reference.com\n",
      "Timeout Error on https://basketball-reference.com/boxscores/201611130OKC.html\n",
      "Timeout Error on https://basketball-reference.com/boxscores/201611130OKC.html\n",
      "Magic vs Thunder, November 13, 2016 | Basketball-Reference.com\n",
      "Timeout Error on https://basketball-reference.com/boxscores/201611130GSW.html\n",
      "Suns vs Warriors, November 13, 2016 | Basketball-Reference.com\n",
      "Nuggets vs Trail Blazers, November 13, 2016 | Basketball-Reference.com\n",
      "Magic vs Pacers, November 14, 2016 | Basketball-Reference.com\n",
      "Thunder vs Pistons, November 14, 2016 | Basketball-Reference.com\n",
      "Timeout Error on https://basketball-reference.com/boxscores/201611140NYK.html\n",
      "Timeout Error on https://basketball-reference.com/boxscores/201611140NYK.html\n",
      "Mavericks vs Knicks, November 14, 2016 | Basketball-Reference.com\n",
      "76ers vs Rockets, November 14, 2016 | Basketball-Reference.com\n",
      "Timeout Error on https://basketball-reference.com/boxscores/201611140NOP.html\n",
      "Celtics vs Pelicans, November 14, 2016 | Basketball-Reference.com\n",
      "Heat vs Spurs, November 14, 2016 | Basketball-Reference.com\n",
      "Timeout Error on https://basketball-reference.com/boxscores/201611140UTA.html\n",
      "Grizzlies vs Jazz, November 14, 2016 | Basketball-Reference.com\n",
      "Timeout Error on https://basketball-reference.com/boxscores/201611140LAC.html\n",
      "Nets vs Clippers, November 14, 2016 | Basketball-Reference.com\n",
      "Raptors vs Cavaliers, November 15, 2016 | Basketball-Reference.com\n",
      "Hawks vs Heat, November 15, 2016 | Basketball-Reference.com\n",
      "Hornets vs Timberwolves, November 15, 2016 | Basketball-Reference.com\n",
      "Timeout Error on https://basketball-reference.com/boxscores/201611150POR.html\n",
      "Bulls vs Trail Blazers, November 15, 2016 | Basketball-Reference.com\n",
      "Nets vs Lakers, November 15, 2016 | Basketball-Reference.com\n",
      "Cavaliers vs Pacers, November 16, 2016 | Basketball-Reference.com\n",
      "Timeout Error on https://basketball-reference.com/boxscores/201611160ORL.html\n",
      "Timeout Error on https://basketball-reference.com/boxscores/201611160ORL.html\n",
      "Pelicans vs Magic, November 16, 2016 | Basketball-Reference.com\n",
      "Timeout Error on https://basketball-reference.com/boxscores/201611160PHI.html\n",
      "Wizards vs 76ers, November 16, 2016 | Basketball-Reference.com\n",
      "Timeout Error on https://basketball-reference.com/boxscores/201611160ATL.html\n",
      "Bucks vs Hawks, November 16, 2016 | Basketball-Reference.com\n",
      "Mavericks vs Celtics, November 16, 2016 | Basketball-Reference.com\n",
      "Pistons vs Knicks, November 16, 2016 | Basketball-Reference.com\n",
      "Rockets vs Thunder, November 16, 2016 | Basketball-Reference.com\n",
      "Warriors vs Raptors, November 16, 2016 | Basketball-Reference.com\n",
      "Suns vs Nuggets, November 16, 2016 | Basketball-Reference.com\n",
      "Timeout Error on https://basketball-reference.com/boxscores/201611160LAC.html\n",
      "Grizzlies vs Clippers, November 16, 2016 | Basketball-Reference.com\n",
      "Spurs vs Kings, November 16, 2016 | Basketball-Reference.com\n",
      "Knicks vs Wizards, November 17, 2016 | Basketball-Reference.com\n",
      "Bucks vs Heat, November 17, 2016 | Basketball-Reference.com\n",
      "Timeout Error on https://basketball-reference.com/boxscores/201611170HOU.html\n",
      "Trail Blazers vs Rockets, November 17, 2016 | Basketball-Reference.com\n",
      "76ers vs Timberwolves, November 17, 2016 | Basketball-Reference.com\n",
      "Bulls vs Jazz, November 17, 2016 | Basketball-Reference.com\n",
      "Timeout Error on https://basketball-reference.com/boxscores/201611180CHO.html\n",
      "Hawks vs Hornets, November 18, 2016 | Basketball-Reference.com\n",
      "Suns vs Pacers, November 18, 2016 | Basketball-Reference.com\n",
      "Timeout Error on https://basketball-reference.com/boxscores/201611180CLE.html\n",
      "Pistons vs Cavaliers, November 18, 2016 | Basketball-Reference.com\n",
      "Warriors vs Celtics, November 18, 2016 | Basketball-Reference.com\n",
      "Trail Blazers vs Pelicans, November 18, 2016 | Basketball-Reference.com\n",
      "Timeout Error on https://basketball-reference.com/boxscores/201611180OKC.html\n",
      "Timeout Error on https://basketball-reference.com/boxscores/201611180OKC.html\n",
      "Nets vs Thunder, November 18, 2016 | Basketball-Reference.com\n",
      "Grizzlies vs Mavericks, November 18, 2016 | Basketball-Reference.com\n",
      "Timeout Error on https://basketball-reference.com/boxscores/201611180DEN.html\n",
      "Timeout Error on https://basketball-reference.com/boxscores/201611180DEN.html\n",
      "Timeout Error on https://basketball-reference.com/boxscores/201611180DEN.html\n",
      "Timeout Error on https://basketball-reference.com/boxscores/201611180LAL.html\n",
      "Spurs vs Lakers, November 18, 2016 | Basketball-Reference.com\n",
      "Timeout Error on https://basketball-reference.com/boxscores/201611180SAC.html\n",
      "Timeout Error on https://basketball-reference.com/boxscores/201611180SAC.html\n",
      "Clippers vs Kings, November 18, 2016 | Basketball-Reference.com\n",
      "Jazz vs Rockets, November 19, 2016 | Basketball-Reference.com\n",
      "Timeout Error on https://basketball-reference.com/boxscores/201611190DET.html\n",
      "Timeout Error on https://basketball-reference.com/boxscores/201611190DET.html\n",
      "Timeout Error on https://basketball-reference.com/boxscores/201611190DET.html\n",
      "Timeout Error on https://basketball-reference.com/boxscores/201611190NOP.html\n",
      "Hornets vs Pelicans, November 19, 2016 | Basketball-Reference.com\n",
      "Mavericks vs Magic, November 19, 2016 | Basketball-Reference.com\n",
      "Heat vs Wizards, November 19, 2016 | Basketball-Reference.com\n",
      "Suns vs 76ers, November 19, 2016 | Basketball-Reference.com\n",
      "Timeout Error on https://basketball-reference.com/boxscores/201611190MEM.html\n",
      "Timberwolves vs Grizzlies, November 19, 2016 | Basketball-Reference.com\n",
      "Warriors vs Bucks, November 19, 2016 | Basketball-Reference.com\n",
      "Bulls vs Clippers, November 19, 2016 | Basketball-Reference.com\n",
      "Timeout Error on https://basketball-reference.com/boxscores/201611200NYK.html\n",
      "Timeout Error on https://basketball-reference.com/boxscores/201611200NYK.html\n",
      "Hawks vs Knicks, November 20, 2016 | Basketball-Reference.com\n",
      "Timeout Error on https://basketball-reference.com/boxscores/201611200BRK.html\n",
      "Timeout Error on https://basketball-reference.com/boxscores/201611200BRK.html\n"
     ]
    },
    {
     "name": "stdout",
     "output_type": "stream",
     "text": [
      "Trail Blazers vs Nets, November 20, 2016 | Basketball-Reference.com\n",
      "Timeout Error on https://basketball-reference.com/boxscores/201611200OKC.html\n",
      "Timeout Error on https://basketball-reference.com/boxscores/201611200OKC.html\n",
      "Pacers vs Thunder, November 20, 2016 | Basketball-Reference.com\n",
      "Jazz vs Nuggets, November 20, 2016 | Basketball-Reference.com\n",
      "Timeout Error on https://basketball-reference.com/boxscores/201611200SAC.html\n",
      "Raptors vs Kings, November 20, 2016 | Basketball-Reference.com\n",
      "Bulls vs Lakers, November 20, 2016 | Basketball-Reference.com\n",
      "Timeout Error on https://basketball-reference.com/boxscores/201611210CHO.html\n",
      "Grizzlies vs Hornets, November 21, 2016 | Basketball-Reference.com\n",
      "Timeout Error on https://basketball-reference.com/boxscores/201611210IND.html\n",
      "Timeout Error on https://basketball-reference.com/boxscores/201611210IND.html\n",
      "Timeout Error on https://basketball-reference.com/boxscores/201611210IND.html\n",
      "Heat vs 76ers, November 21, 2016 | Basketball-Reference.com\n",
      "Timeout Error on https://basketball-reference.com/boxscores/201611210WAS.html\n",
      "Timeout Error on https://basketball-reference.com/boxscores/201611210WAS.html\n",
      "Suns vs Wizards, November 21, 2016 | Basketball-Reference.com\n",
      "Rockets vs Pistons, November 21, 2016 | Basketball-Reference.com\n",
      "Timeout Error on https://basketball-reference.com/boxscores/201611210MIL.html\n",
      "Magic vs Bucks, November 21, 2016 | Basketball-Reference.com\n",
      "Celtics vs Timberwolves, November 21, 2016 | Basketball-Reference.com\n",
      "Mavericks vs Spurs, November 21, 2016 | Basketball-Reference.com\n",
      "Raptors vs Clippers, November 21, 2016 | Basketball-Reference.com\n",
      "Pelicans vs Hawks, November 22, 2016 | Basketball-Reference.com\n",
      "Timeout Error on https://basketball-reference.com/boxscores/201611220NYK.html\n",
      "Trail Blazers vs Knicks, November 22, 2016 | Basketball-Reference.com\n",
      "Bulls vs Nuggets, November 22, 2016 | Basketball-Reference.com\n",
      "Thunder vs Lakers, November 22, 2016 | Basketball-Reference.com\n",
      "Timeout Error on https://basketball-reference.com/boxscores/201611230CHO.html\n",
      "Spurs vs Hornets, November 23, 2016 | Basketball-Reference.com\n",
      "Trail Blazers vs Cavaliers, November 23, 2016 | Basketball-Reference.com\n",
      "Timeout Error on https://basketball-reference.com/boxscores/201611230IND.html\n",
      "Timeout Error on https://basketball-reference.com/boxscores/201611230IND.html\n",
      "Hawks vs Pacers, November 23, 2016 | Basketball-Reference.com\n",
      "Suns vs Magic, November 23, 2016 | Basketball-Reference.com\n",
      "Grizzlies vs 76ers, November 23, 2016 | Basketball-Reference.com\n",
      "Celtics vs Nets, November 23, 2016 | Basketball-Reference.com\n",
      "Heat vs Pistons, November 23, 2016 | Basketball-Reference.com\n",
      "Raptors vs Rockets, November 23, 2016 | Basketball-Reference.com\n",
      "Clippers vs Mavericks, November 23, 2016 | Basketball-Reference.com\n",
      "Timeout Error on https://basketball-reference.com/boxscores/201611230UTA.html\n",
      "Nuggets vs Jazz, November 23, 2016 | Basketball-Reference.com\n",
      "Timberwolves vs Pelicans, November 23, 2016 | Basketball-Reference.com\n",
      "Lakers vs Warriors, November 23, 2016 | Basketball-Reference.com\n",
      "Timeout Error on https://basketball-reference.com/boxscores/201611230SAC.html\n",
      "Thunder vs Kings, November 23, 2016 | Basketball-Reference.com\n",
      "Spurs vs Celtics, November 25, 2016 | Basketball-Reference.com\n",
      "Wizards vs Magic, November 25, 2016 | Basketball-Reference.com\n",
      "Mavericks vs Cavaliers, November 25, 2016 | Basketball-Reference.com\n",
      "Timeout Error on https://basketball-reference.com/boxscores/201611250DET.html\n",
      "Clippers vs Pistons, November 25, 2016 | Basketball-Reference.com\n",
      "Hornets vs Knicks, November 25, 2016 | Basketball-Reference.com\n",
      "Bulls vs 76ers, November 25, 2016 | Basketball-Reference.com\n",
      "Timeout Error on https://basketball-reference.com/boxscores/201611250IND.html\n",
      "Nets vs Pacers, November 25, 2016 | Basketball-Reference.com\n",
      "Heat vs Grizzlies, November 25, 2016 | Basketball-Reference.com\n",
      "Raptors vs Bucks, November 25, 2016 | Basketball-Reference.com\n",
      "Hawks vs Jazz, November 25, 2016 | Basketball-Reference.com\n",
      "Timeout Error on https://basketball-reference.com/boxscores/201611250DEN.html\n",
      "Timeout Error on https://basketball-reference.com/boxscores/201611250DEN.html\n",
      "Thunder vs Nuggets, November 25, 2016 | Basketball-Reference.com\n",
      "Timberwolves vs Suns, November 25, 2016 | Basketball-Reference.com\n",
      "Timeout Error on https://basketball-reference.com/boxscores/201611250POR.html\n",
      "Timeout Error on https://basketball-reference.com/boxscores/201611250POR.html\n",
      "Pelicans vs Trail Blazers, November 25, 2016 | Basketball-Reference.com\n",
      "Timeout Error on https://basketball-reference.com/boxscores/201611250LAL.html\n",
      "Warriors vs Lakers, November 25, 2016 | Basketball-Reference.com\n",
      "Rockets vs Kings, November 25, 2016 | Basketball-Reference.com\n",
      "Knicks vs Hornets, November 26, 2016 | Basketball-Reference.com\n",
      "Spurs vs Wizards, November 26, 2016 | Basketball-Reference.com\n",
      "Grizzlies vs Heat, November 26, 2016 | Basketball-Reference.com\n",
      "Timeout Error on https://basketball-reference.com/boxscores/201611260OKC.html\n",
      "Pistons vs Thunder, November 26, 2016 | Basketball-Reference.com\n",
      "Timberwolves vs Warriors, November 26, 2016 | Basketball-Reference.com\n",
      "Cavaliers vs 76ers, November 27, 2016 | Basketball-Reference.com\n",
      "Timeout Error on https://basketball-reference.com/boxscores/201611270PHO.html\n",
      "Timeout Error on https://basketball-reference.com/boxscores/201611270PHO.html\n",
      "Nuggets vs Suns, November 27, 2016 | Basketball-Reference.com\n",
      "Kings vs Nets, November 27, 2016 | Basketball-Reference.com\n",
      "Clippers vs Pacers, November 27, 2016 | Basketball-Reference.com\n",
      "Timeout Error on https://basketball-reference.com/boxscores/201611270ORL.html\n",
      "Bucks vs Magic, November 27, 2016 | Basketball-Reference.com\n",
      "Pelicans vs Mavericks, November 27, 2016 | Basketball-Reference.com\n",
      "Rockets vs Trail Blazers, November 27, 2016 | Basketball-Reference.com\n",
      "Hawks vs Lakers, November 27, 2016 | Basketball-Reference.com\n",
      "Timeout Error on https://basketball-reference.com/boxscores/201611280WAS.html\n",
      "Kings vs Wizards, November 28, 2016 | Basketball-Reference.com\n",
      "Celtics vs Heat, November 28, 2016 | Basketball-Reference.com\n",
      "Thunder vs Knicks, November 28, 2016 | Basketball-Reference.com\n",
      "76ers vs Raptors, November 28, 2016 | Basketball-Reference.com\n",
      "Hornets vs Grizzlies, November 28, 2016 | Basketball-Reference.com\n",
      "Jazz vs Timberwolves, November 28, 2016 | Basketball-Reference.com\n",
      "Hawks vs Warriors, November 28, 2016 | Basketball-Reference.com\n",
      "Pistons vs Hornets, November 29, 2016 | Basketball-Reference.com\n",
      "Timeout Error on https://basketball-reference.com/boxscores/201611290BRK.html\n",
      "Clippers vs Nets, November 29, 2016 | Basketball-Reference.com\n",
      "Cavaliers vs Bucks, November 29, 2016 | Basketball-Reference.com\n",
      "Lakers vs Pelicans, November 29, 2016 | Basketball-Reference.com\n",
      "Magic vs Spurs, November 29, 2016 | Basketball-Reference.com\n",
      "Rockets vs Jazz, November 29, 2016 | Basketball-Reference.com\n",
      "Timeout Error on https://basketball-reference.com/boxscores/201611300BOS.html\n",
      "Pistons vs Celtics, November 30, 2016 | Basketball-Reference.com\n",
      "Grizzlies vs Raptors, November 30, 2016 | Basketball-Reference.com\n",
      "Lakers vs Bulls, November 30, 2016 | Basketball-Reference.com\n",
      "Timeout Error on https://basketball-reference.com/boxscores/201611300MIN.html\n",
      "Knicks vs Timberwolves, November 30, 2016 | Basketball-Reference.com\n",
      "Wizards vs Thunder, November 30, 2016 | Basketball-Reference.com\n",
      "Timeout Error on https://basketball-reference.com/boxscores/201611300DAL.html\n",
      "Timeout Error on https://basketball-reference.com/boxscores/201611300DAL.html\n",
      "Spurs vs Mavericks, November 30, 2016 | Basketball-Reference.com\n",
      "Heat vs Nuggets, November 30, 2016 | Basketball-Reference.com\n",
      "Hawks vs Suns, November 30, 2016 | Basketball-Reference.com\n",
      "Pacers vs Trail Blazers, November 30, 2016 | Basketball-Reference.com\n",
      "Mavericks vs Hornets, December 1, 2016 | Basketball-Reference.com\n",
      "Timeout Error on https://basketball-reference.com/boxscores/201612010BRK.html\n",
      "Bucks vs Nets, December 1, 2016 | Basketball-Reference.com\n",
      "Clippers vs Cavaliers, December 1, 2016 | Basketball-Reference.com\n",
      "Magic vs Grizzlies, December 1, 2016 | Basketball-Reference.com\n",
      "Heat vs Jazz, December 1, 2016 | Basketball-Reference.com\n",
      "Rockets vs Warriors, December 1, 2016 | Basketball-Reference.com\n",
      "Timeout Error on https://basketball-reference.com/boxscores/201612020PHI.html\n"
     ]
    }
   ],
   "source": [
    "for f in standing_files:\n",
    "    filepath = os.path.join(STANDINGS_DIR, f)\n",
    "    await standing_games(filepath)"
   ]
  },
  {
   "cell_type": "code",
   "execution_count": 17,
   "id": "0ed07761",
   "metadata": {},
   "outputs": [
    {
     "data": {
      "text/plain": [
       "[2017, 2018, 2019, 2020, 2021, 2022]"
      ]
     },
     "execution_count": 17,
     "metadata": {},
     "output_type": "execute_result"
    }
   ],
   "source": [
    "SEASONS"
   ]
  },
  {
   "cell_type": "code",
   "execution_count": null,
   "id": "2aec8a79",
   "metadata": {},
   "outputs": [],
   "source": []
  }
 ],
 "metadata": {
  "kernelspec": {
   "display_name": "Python 3 (ipykernel)",
   "language": "python",
   "name": "python3"
  },
  "language_info": {
   "codemirror_mode": {
    "name": "ipython",
    "version": 3
   },
   "file_extension": ".py",
   "mimetype": "text/x-python",
   "name": "python",
   "nbconvert_exporter": "python",
   "pygments_lexer": "ipython3",
   "version": "3.11.1"
  }
 },
 "nbformat": 4,
 "nbformat_minor": 5
}
