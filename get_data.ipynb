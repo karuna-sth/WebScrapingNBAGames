{
 "cells": [
  {
   "cell_type": "code",
   "execution_count": 1,
   "id": "dd37774a",
   "metadata": {},
   "outputs": [],
   "source": [
    "import os\n",
    "from bs4 import BeautifulSoup\n",
    "from playwright.async_api import async_playwright, TimeoutError as PlaywrightTimeout\n",
    "import time"
   ]
  },
  {
   "cell_type": "code",
   "execution_count": 2,
   "id": "8e8a0323",
   "metadata": {},
   "outputs": [],
   "source": [
    "SEASONS = list(range(2017,2023))"
   ]
  },
  {
   "cell_type": "code",
   "execution_count": 3,
   "id": "80d4e619",
   "metadata": {},
   "outputs": [
    {
     "data": {
      "text/plain": [
       "[2017, 2018, 2019, 2020, 2021, 2022]"
      ]
     },
     "execution_count": 3,
     "metadata": {},
     "output_type": "execute_result"
    }
   ],
   "source": [
    "SEASONS"
   ]
  },
  {
   "cell_type": "code",
   "execution_count": 4,
   "id": "4d2e12ad",
   "metadata": {},
   "outputs": [],
   "source": [
    "DATA_DIR = \"data\"\n",
    "STANDINGS_DIR = os.path.join(DATA_DIR, \"standings\")\n",
    "SCORES_DIR = os.path.join(DATA_DIR, \"scores\")"
   ]
  },
  {
   "cell_type": "code",
   "execution_count": 5,
   "id": "e31191a9",
   "metadata": {},
   "outputs": [],
   "source": [
    "async def get_html(url, selector, sleep = 5, retries=3):\n",
    "    html = None\n",
    "    for i in range(1, retries + 1):\n",
    "        time.sleep(sleep * i)\n",
    "        \n",
    "        try:\n",
    "            async with async_playwright() as p:\n",
    "                browser = await p.chromium.launch()\n",
    "                page = await browser.new_page()\n",
    "                await page.goto(url)\n",
    "                print(await page.title())\n",
    "                html = await page.inner_html(selector)\n",
    "        except PlaywrightTimeout:\n",
    "            print(f\"Timeout Error on {url}\")\n",
    "            continue\n",
    "        else:\n",
    "            break\n",
    "    return html\n",
    "    "
   ]
  },
  {
   "cell_type": "code",
   "execution_count": 6,
   "id": "47689fe6",
   "metadata": {},
   "outputs": [],
   "source": [
    "season = 2022\n",
    "css_selector = \"#content .filter\" \n",
    "url = f\"https://www.basketball-reference.com/leagues/NBA_{season}_games.html\""
   ]
  },
  {
   "cell_type": "code",
   "execution_count": 7,
   "id": "80bfc9ea",
   "metadata": {},
   "outputs": [
    {
     "data": {
      "text/plain": [
       "'https://www.basketball-reference.com/leagues/NBA_2022_games.html'"
      ]
     },
     "execution_count": 7,
     "metadata": {},
     "output_type": "execute_result"
    }
   ],
   "source": [
    "url\n"
   ]
  },
  {
   "cell_type": "code",
   "execution_count": 8,
   "id": "97fae699",
   "metadata": {},
   "outputs": [
    {
     "name": "stdout",
     "output_type": "stream",
     "text": [
      "Timeout Error on https://www.basketball-reference.com/leagues/NBA_2022_games.html\n",
      "2021-22 NBA Schedule | Basketball-Reference.com\n"
     ]
    }
   ],
   "source": [
    "html = await get_html(url, css_selector)"
   ]
  },
  {
   "cell_type": "code",
   "execution_count": 9,
   "id": "ef326cce",
   "metadata": {},
   "outputs": [
    {
     "data": {
      "text/plain": [
       "'\\n\\n<div class=\" current\">\\n\\t<a href=\"/leagues/NBA_2022_games-october.html\">October</a>\\n</div><div class=\"\">\\n\\t<a href=\"/leagues/NBA_2022_games-november.html\">November</a>\\n</div><div class=\"\">\\n\\t<a href=\"/leagues/NBA_2022_games-december.html\">December</a>\\n</div><div class=\"\">\\n\\t<a href=\"/leagues/NBA_2022_games-january.html\">January</a>\\n</div><div class=\"\">\\n\\t<a href=\"/leagues/NBA_2022_games-february.html\">February</a>\\n</div><div class=\"\">\\n\\t<a href=\"/leagues/NBA_2022_games-march.html\">March</a>\\n</div><div class=\"\">\\n\\t<a href=\"/leagues/NBA_2022_games-april.html\">April</a>\\n</div><div class=\"\">\\n\\t<a href=\"/leagues/NBA_2022_games-may.html\">May</a>\\n</div><div class=\"\">\\n\\t<a href=\"/leagues/NBA_2022_games-june.html\">June</a>\\n</div>'"
      ]
     },
     "execution_count": 9,
     "metadata": {},
     "output_type": "execute_result"
    }
   ],
   "source": [
    "html"
   ]
  },
  {
   "cell_type": "code",
   "execution_count": 10,
   "id": "474f4b62",
   "metadata": {},
   "outputs": [
    {
     "data": {
      "text/plain": [
       "['/leagues/NBA_2022_games-october.html',\n",
       " '/leagues/NBA_2022_games-november.html',\n",
       " '/leagues/NBA_2022_games-december.html',\n",
       " '/leagues/NBA_2022_games-january.html',\n",
       " '/leagues/NBA_2022_games-february.html',\n",
       " '/leagues/NBA_2022_games-march.html',\n",
       " '/leagues/NBA_2022_games-april.html',\n",
       " '/leagues/NBA_2022_games-may.html',\n",
       " '/leagues/NBA_2022_games-june.html']"
      ]
     },
     "execution_count": 10,
     "metadata": {},
     "output_type": "execute_result"
    }
   ],
   "source": [
    "soup = BeautifulSoup(html)\n",
    "links = soup.find_all(\"a\")\n",
    "href = [l[\"href\"] for l in links]\n",
    "href"
   ]
  },
  {
   "cell_type": "code",
   "execution_count": 11,
   "id": "a19c13cf",
   "metadata": {},
   "outputs": [
    {
     "data": {
      "text/plain": [
       "['https://basketball-reference.com/leagues/NBA_2022_games-october.html',\n",
       " 'https://basketball-reference.com/leagues/NBA_2022_games-november.html',\n",
       " 'https://basketball-reference.com/leagues/NBA_2022_games-december.html',\n",
       " 'https://basketball-reference.com/leagues/NBA_2022_games-january.html',\n",
       " 'https://basketball-reference.com/leagues/NBA_2022_games-february.html',\n",
       " 'https://basketball-reference.com/leagues/NBA_2022_games-march.html',\n",
       " 'https://basketball-reference.com/leagues/NBA_2022_games-april.html',\n",
       " 'https://basketball-reference.com/leagues/NBA_2022_games-may.html',\n",
       " 'https://basketball-reference.com/leagues/NBA_2022_games-june.html']"
      ]
     },
     "execution_count": 11,
     "metadata": {},
     "output_type": "execute_result"
    }
   ],
   "source": [
    "standing_pages = [f\"https://basketball-reference.com{l}\"for l in href]\n",
    "standing_pages"
   ]
  },
  {
   "cell_type": "code",
   "execution_count": 12,
   "id": "53abf4dd",
   "metadata": {},
   "outputs": [],
   "source": [
    "async def scrape_seasons(season):\n",
    "    url = f\"https://basketball-reference.com/leagues/NBA_{season}_games.html\"\n",
    "    html = await get_html(url, \"#content .filter\")\n",
    "    \n",
    "    soup = BeautifulSoup(html)\n",
    "    links = soup.find_all(\"a\")\n",
    "    href = [l[\"href\"] for l in links]\n",
    "    standing_pages = [f\"https://basketball-reference.com{l}\"for l in href]\n",
    "    \n",
    "    for url in standing_pages:\n",
    "        save_path = os.path.join(STANDINGS_DIR, url.split(\"/\")[-1])\n",
    "        if os.path.exists(save_path):\n",
    "            continue\n",
    "        \n",
    "        html = await get_html(url, \"#all_schedule\")\n",
    "        with open(save_path, \"w+\") as f:\n",
    "            f.write(html)\n",
    "\n",
    "    "
   ]
  },
  {
   "cell_type": "code",
   "execution_count": 35,
   "id": "df30f2ce",
   "metadata": {},
   "outputs": [
    {
     "name": "stdout",
     "output_type": "stream",
     "text": [
      "2015-16 NBA Schedule | Basketball-Reference.com\n",
      "Timeout Error on https://basketball-reference.com/leagues/NBA_2016_games-october.html\n",
      "2015-16 NBA Schedule | Basketball-Reference.com\n",
      "2015-16 NBA Schedule | Basketball-Reference.com\n",
      "Timeout Error on https://basketball-reference.com/leagues/NBA_2017_games.html\n",
      "2016-17 NBA Schedule | Basketball-Reference.com\n",
      "Timeout Error on https://basketball-reference.com/leagues/NBA_2017_games-january.html\n",
      "2016-17 NBA Schedule | Basketball-Reference.com\n",
      "Timeout Error on https://basketball-reference.com/leagues/NBA_2018_games.html\n",
      "2017-18 NBA Schedule | Basketball-Reference.com\n",
      "2018-19 NBA Schedule | Basketball-Reference.com\n",
      "Timeout Error on https://basketball-reference.com/leagues/NBA_2020_games.html\n",
      "Timeout Error on https://basketball-reference.com/leagues/NBA_2020_games.html\n",
      "2019-20 NBA Schedule | Basketball-Reference.com\n",
      "2020-21 NBA Schedule | Basketball-Reference.com\n",
      "2020-21 NBA Schedule | Basketball-Reference.com\n",
      "2020-21 NBA Schedule | Basketball-Reference.com\n",
      "2020-21 NBA Schedule | Basketball-Reference.com\n",
      "2021-22 NBA Schedule | Basketball-Reference.com\n",
      "Timeout Error on https://basketball-reference.com/leagues/NBA_2022_games-october.html\n",
      "Timeout Error on https://basketball-reference.com/leagues/NBA_2022_games-october.html\n",
      "2021-22 NBA Schedule | Basketball-Reference.com\n",
      "Timeout Error on https://basketball-reference.com/leagues/NBA_2022_games-november.html\n",
      "2021-22 NBA Schedule | Basketball-Reference.com\n",
      "2021-22 NBA Schedule | Basketball-Reference.com\n",
      "2021-22 NBA Schedule | Basketball-Reference.com\n",
      "2021-22 NBA Schedule | Basketball-Reference.com\n",
      "2021-22 NBA Schedule | Basketball-Reference.com\n",
      "2021-22 NBA Schedule | Basketball-Reference.com\n",
      "2021-22 NBA Schedule | Basketball-Reference.com\n",
      "2021-22 NBA Schedule | Basketball-Reference.com\n"
     ]
    }
   ],
   "source": [
    "for season in SEASONS:\n",
    "    await scrape_seasons(season)"
   ]
  },
  {
   "cell_type": "code",
   "execution_count": 13,
   "id": "4a576777",
   "metadata": {},
   "outputs": [],
   "source": [
    "standing_files = os.listdir(STANDINGS_DIR)"
   ]
  },
  {
   "cell_type": "code",
   "execution_count": 14,
   "id": "a43114ec",
   "metadata": {},
   "outputs": [
    {
     "data": {
      "text/plain": [
       "['NBA_2017_games-october.html',\n",
       " 'NBA_2017_games-november.html',\n",
       " 'NBA_2017_games-december.html',\n",
       " 'NBA_2017_games-february.html',\n",
       " 'NBA_2017_games-march.html',\n",
       " 'NBA_2017_games-april.html',\n",
       " 'NBA_2017_games-may.html',\n",
       " 'NBA_2017_games-june.html',\n",
       " 'NBA_2018_games-october.html',\n",
       " 'NBA_2018_games-november.html',\n",
       " 'NBA_2018_games-december.html',\n",
       " 'NBA_2018_games-january.html',\n",
       " 'NBA_2018_games-february.html',\n",
       " 'NBA_2018_games-march.html',\n",
       " 'NBA_2018_games-april.html',\n",
       " 'NBA_2018_games-may.html',\n",
       " 'NBA_2018_games-june.html',\n",
       " 'NBA_2019_games-october.html',\n",
       " 'NBA_2019_games-november.html',\n",
       " 'NBA_2019_games-december.html',\n",
       " 'NBA_2019_games-january.html',\n",
       " 'NBA_2019_games-february.html',\n",
       " 'NBA_2019_games-march.html',\n",
       " 'NBA_2019_games-april.html',\n",
       " 'NBA_2019_games-may.html',\n",
       " 'NBA_2019_games-june.html',\n",
       " 'NBA_2020_games-october-2019.html',\n",
       " 'NBA_2020_games-november.html',\n",
       " 'NBA_2020_games-december.html',\n",
       " 'NBA_2020_games-january.html',\n",
       " 'NBA_2020_games-february.html',\n",
       " 'NBA_2020_games-march.html',\n",
       " 'NBA_2020_games-july.html',\n",
       " 'NBA_2020_games-august.html',\n",
       " 'NBA_2020_games-september.html',\n",
       " 'NBA_2020_games-october-2020.html',\n",
       " 'NBA_2021_games-december.html',\n",
       " 'NBA_2021_games-january.html',\n",
       " 'NBA_2021_games-february.html',\n",
       " 'NBA_2021_games-march.html',\n",
       " 'NBA_2021_games-april.html',\n",
       " 'NBA_2017_games-january.html',\n",
       " 'NBA_2021_games-may.html',\n",
       " 'NBA_2021_games-june.html',\n",
       " 'NBA_2021_games-july.html',\n",
       " 'NBA_2022_games-october.html',\n",
       " 'NBA_2022_games-november.html',\n",
       " 'NBA_2022_games-december.html',\n",
       " 'NBA_2022_games-january.html',\n",
       " 'NBA_2022_games-february.html',\n",
       " 'NBA_2022_games-march.html',\n",
       " 'NBA_2022_games-april.html',\n",
       " 'NBA_2022_games-may.html',\n",
       " 'NBA_2022_games-june.html']"
      ]
     },
     "execution_count": 14,
     "metadata": {},
     "output_type": "execute_result"
    }
   ],
   "source": [
    "standing_files"
   ]
  },
  {
   "cell_type": "code",
   "execution_count": 16,
   "id": "4ebfc59c",
   "metadata": {},
   "outputs": [],
   "source": [
    "async def standing_games(standing_file):\n",
    "    with open (standing_file, \"r\") as f:\n",
    "        html = f.read()\n",
    "\n",
    "    soup = BeautifulSoup(html)\n",
    "    links = soup.find_all(\"a\")\n",
    "    hrefs = [l.get(\"href\") for l in links]\n",
    "    box_scores = [l for l in hrefs if l and \"boxscores\" in l and \".html\" in l]\n",
    "    box_scores = [f\"https://basketball-reference.com{l}\" for l in box_scores]\n",
    "\n",
    "    for url in box_scores:\n",
    "        save_path = os.path.join(SCORES_DIR, url.split(\"/\")[-1])\n",
    "        if os.path.exists(save_path):\n",
    "            continue\n",
    "        html = await get_html(url, \"#content\")\n",
    "        if not html:\n",
    "            continue\n",
    "        with open(save_path, \"w+\") as f:\n",
    "            f.write(html)"
   ]
  },
  {
   "cell_type": "code",
   "execution_count": null,
   "id": "3a3519fe",
   "metadata": {},
   "outputs": [
    {
     "name": "stdout",
     "output_type": "stream",
     "text": [
      "Knicks vs Cavaliers, October 25, 2016 | Basketball-Reference.com\n",
      "Jazz vs Trail Blazers, October 25, 2016 | Basketball-Reference.com\n",
      "Spurs vs Warriors, October 25, 2016 | Basketball-Reference.com\n",
      "Timeout Error on https://basketball-reference.com/boxscores/201610260IND.html\n",
      "Timeout Error on https://basketball-reference.com/boxscores/201610260IND.html\n",
      "Mavericks vs Pacers, October 26, 2016 | Basketball-Reference.com\n",
      "Heat vs Magic, October 26, 2016 | Basketball-Reference.com\n",
      "Timeout Error on https://basketball-reference.com/boxscores/201610260TOR.html\n",
      "Timeout Error on https://basketball-reference.com/boxscores/201610260TOR.html\n",
      "Pistons vs Raptors, October 26, 2016 | Basketball-Reference.com\n",
      "Nets vs Celtics, October 26, 2016 | Basketball-Reference.com\n",
      "Timeout Error on https://basketball-reference.com/boxscores/201610260MIL.html\n",
      "Hornets vs Bucks, October 26, 2016 | Basketball-Reference.com\n",
      "Timeout Error on https://basketball-reference.com/boxscores/201610260NOP.html\n",
      "Timeout Error on https://basketball-reference.com/boxscores/201610260NOP.html\n",
      "Nuggets vs Pelicans, October 26, 2016 | Basketball-Reference.com\n",
      "Timberwolves vs Grizzlies, October 26, 2016 | Basketball-Reference.com\n",
      "Thunder vs 76ers, October 26, 2016 | Basketball-Reference.com\n",
      "Kings vs Suns, October 26, 2016 | Basketball-Reference.com\n",
      "Timeout Error on https://basketball-reference.com/boxscores/201610260LAL.html\n"
     ]
    }
   ],
   "source": [
    "for f in standing_files:\n",
    "    filepath = os.path.join(STANDINGS_DIR, f)\n",
    "    await standing_games(filepath)"
   ]
  },
  {
   "cell_type": "code",
   "execution_count": null,
   "id": "e3ef4c00",
   "metadata": {},
   "outputs": [],
   "source": []
  }
 ],
 "metadata": {
  "kernelspec": {
   "display_name": "Python 3 (ipykernel)",
   "language": "python",
   "name": "python3"
  },
  "language_info": {
   "codemirror_mode": {
    "name": "ipython",
    "version": 3
   },
   "file_extension": ".py",
   "mimetype": "text/x-python",
   "name": "python",
   "nbconvert_exporter": "python",
   "pygments_lexer": "ipython3",
   "version": "3.11.0"
  }
 },
 "nbformat": 4,
 "nbformat_minor": 5
}
